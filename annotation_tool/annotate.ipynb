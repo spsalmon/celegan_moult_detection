{
 "cells": [
  {
   "cell_type": "code",
   "execution_count": 1,
   "metadata": {},
   "outputs": [],
   "source": [
    "from pathlib import Path\n",
    "from ipywidgets import Output, Button, Layout, HBox\n",
    "from IPython.display import Image, display, clear_output\n",
    "import matplotlib.pyplot as plt\n",
    "import skimage.io as skio\n",
    "from collections import OrderedDict\n",
    "import os\n",
    "import numpy as np\n",
    "import random\n",
    "import matplotlib\n",
    "import csv\n",
    "import pandas as pd\n",
    "\n",
    "matplotlib.rcParams['figure.figsize'] = [15, 15]"
   ]
  },
  {
   "cell_type": "code",
   "execution_count": 2,
   "metadata": {},
   "outputs": [],
   "source": [
    "def store_action_and_label(button: Button) -> None:\n",
    "    \"\"\"Annotates the current image with the button's description.\"\"\"\n",
    "    global actions, position, save_dir, image, labels_csv\n",
    "\n",
    "    # store the assigned label\n",
    "    save_name = save_dir + os.path.basename(images[position])\n",
    "\n",
    "    print(os.path.basename(images[position]))\n",
    "\n",
    "    row = [os.path.basename(images[position]), button.description]\n",
    "    append_list_as_row(labels_csv, row)\n",
    "\n",
    "    skio.imsave(save_name, image)\n",
    "    actions[position] = save_name\n",
    "\n",
    "    # move to next image\n",
    "    next_image()\n",
    "\n",
    "def next_image(*args) -> None:\n",
    "    \"\"\"Select the next image and update the displays.\"\"\"\n",
    "    global position_list, image, position\n",
    "\n",
    "    # update position\n",
    "    try:\n",
    "        old_pos = np.where(position_list == position)[0][0]\n",
    "        position_list = np.delete(position_list, old_pos)\n",
    "        new_position_index = random.choice(np.arange(position_list.shape[0]))\n",
    "\n",
    "        \n",
    "        position = position_list[new_position_index]\n",
    "\n",
    "        \n",
    "        # refresh display\n",
    "        image = skio.imread(images[position])\n",
    "        with frame:\n",
    "            clear_output(wait=True)\n",
    "            plt.imshow(image, cmap=\"hot\")\n",
    "            plt.show()\n",
    "    except:\n",
    "        print(position)\n",
    "        print(np.where(position_list == position))\n",
    "\n",
    "def undo(*args) -> None:\n",
    "    global actions, position, image, position_list, labels_csv\n",
    "    if not len(actions) == 0:\n",
    "\n",
    "        df = pd.read_csv(labels_csv)\n",
    "  \n",
    "        df = df.iloc[:-1]\n",
    "        df.to_csv(labels_csv, index=False)\n",
    "        \n",
    "        last_action = actions.popitem()\n",
    "        position = last_action[0]\n",
    "        position_list = np.insert(position_list, position, position)\n",
    "        os.remove(last_action[1])\n",
    "\n",
    "        image = skio.imread(images[position])\n",
    "        with frame:\n",
    "            clear_output(wait=True)\n",
    "            plt.imshow(image, cmap=\"hot\")\n",
    "            plt.show()\n",
    "\n",
    "def append_list_as_row(file_name, list_of_elem):\n",
    "    # Open file in append mode\n",
    "    with open(file_name, 'a+', newline='') as write_obj:\n",
    "        # Create a writer object from csv module\n",
    "        csv_writer = csv.writer(write_obj)\n",
    "        # Add contents of list as last row in the csv file\n",
    "        csv_writer.writerow(list_of_elem)"
   ]
  },
  {
   "cell_type": "code",
   "execution_count": 3,
   "metadata": {},
   "outputs": [],
   "source": [
    "# store list of available class labels\n",
    "classes = [\"moult\", \"no_moult\"]\n",
    "\n",
    "save_dir = \"/home/spsalmon/detect_moults/classify_moults/classification_database/whole_database/\"\n",
    "\n",
    "if not os.path.exists(save_dir):\n",
    "    os.makedirs(save_dir)\n",
    "\n",
    "labels_csv = \"/home/spsalmon/detect_moults/classify_moults/classification_database/whole_database/labels.csv\"\n",
    "\n",
    "file = open(labels_csv, 'a+', newline='')\n",
    "\n",
    "if os.stat(labels_csv).st_size == 0:\n",
    "    header = ['img_id', 'label']\n",
    "    append_list_as_row(labels_csv, header)\n",
    "\n",
    "file.close()\n",
    "\n",
    "path_images = \"/mnt/external.data/TowbinLab/spsalmon/moult_database/fluo/\"\n",
    "images = [os.path.join(path_images, x) for x in sorted(os.listdir(path_images))]\n",
    "# set up empty dict for labels and initial position\n",
    "actions = OrderedDict()\n",
    "\n",
    "position_list = np.arange(len(images))\n",
    "position = 1000"
   ]
  },
  {
   "cell_type": "code",
   "execution_count": 4,
   "metadata": {},
   "outputs": [
    {
     "data": {
      "application/vnd.jupyter.widget-view+json": {
       "model_id": "3f96a135fd83415b92266b7733c5a6a2",
       "version_major": 2,
       "version_minor": 0
      },
      "text/plain": [
       "Output(layout=Layout(height='1000px', max_width='1000px'))"
      ]
     },
     "metadata": {},
     "output_type": "display_data"
    },
    {
     "data": {
      "application/vnd.jupyter.widget-view+json": {
       "model_id": "14a722b8e3da4d988a37fd3fae17aae5",
       "version_major": 2,
       "version_minor": 0
      },
      "text/plain": [
       "HBox(children=(Button(description='moult', style=ButtonStyle()), Button(description='no_moult', style=ButtonSt…"
      ]
     },
     "metadata": {},
     "output_type": "display_data"
    }
   ],
   "source": [
    "image = skio.imread(images[position])\n",
    "frame = Output(layout=Layout(height=\"1000px\", max_width=\"1000px\"))\n",
    "with frame:\n",
    "    # display(image)\n",
    "    plt.imshow(image, cmap = \"hot\")\n",
    "    plt.show()\n",
    "\n",
    "class_buttons = []\n",
    "for label in classes:\n",
    "    label_button = Button(description=label)\n",
    "    label_button.on_click(store_action_and_label)\n",
    "    class_buttons.append(label_button)\n",
    "\n",
    "next_button = Button(description=\"NEXT\")\n",
    "next_button.on_click(next_image)\n",
    "class_buttons.append(next_button)\n",
    "\n",
    "undo_button = Button(description=\"UNDO\")\n",
    "undo_button.on_click(undo)\n",
    "class_buttons.append(undo_button)\n",
    "\n",
    "display(frame)\n",
    "# display(HBox(navigation_buttons))\n",
    "display(HBox(class_buttons))"
   ]
  },
  {
   "cell_type": "code",
   "execution_count": 5,
   "metadata": {},
   "outputs": [
    {
     "name": "stdout",
     "output_type": "stream",
     "text": [
      "0\n",
      "(44770,)\n",
      "[    0     1     2 ... 44767 44768 44769]\n",
      "1000\n",
      "(array([1000]),)\n",
      "OrderedDict()\n"
     ]
    }
   ],
   "source": [
    "print(len(actions))\n",
    "print(position_list.shape)\n",
    "print(position_list)\n",
    "print(position)\n",
    "print(np.where(position_list==position))\n",
    "print(actions)"
   ]
  },
  {
   "cell_type": "code",
   "execution_count": 6,
   "metadata": {},
   "outputs": [
    {
     "name": "stdout",
     "output_type": "stream",
     "text": [
      "Empty DataFrame\n",
      "Columns: [img_id, label]\n",
      "Index: []\n"
     ]
    }
   ],
   "source": [
    "df = pd.read_csv(labels_csv)\n",
    "print(df)"
   ]
  },
  {
   "cell_type": "code",
   "execution_count": 7,
   "metadata": {},
   "outputs": [
    {
     "data": {
      "text/plain": [
       "<matplotlib.image.AxesImage at 0x7f732bb40430>"
      ]
     },
     "execution_count": 7,
     "metadata": {},
     "output_type": "execute_result"
    },
    {
     "data": {
      "image/png": "[encoded data removed]",
      "text/plain": [
       "<Figure size 1080x1080 with 1 Axes>"
      ]
     },
     "metadata": {
      "needs_background": "light"
     },
     "output_type": "display_data"
    }
   ],
   "source": [
    "plt.imshow(skio.imread(\"/home/spsalmon/classify_orientation/classification_database/whole_database/Time00001_Point0022_Channel546 nm,477 nm,DIA_Seq0274.tiff\"))"
   ]
  },
  {
   "cell_type": "code",
   "execution_count": 8,
   "metadata": {},
   "outputs": [
    {
     "name": "stdout",
     "output_type": "stream",
     "text": [
      "[1 0 0]\n"
     ]
    }
   ],
   "source": [
    "labels = sorted(['error', 'left', 'right'])\n",
    "\n",
    "y = np.arange(len(labels))\n",
    "one_hot_labels = np.eye(len(labels), dtype='uint8')[y]\n",
    "print(one_hot_labels[labels.index('error')])\n",
    "\n"
   ]
  }
 ],
 "metadata": {
  "kernelspec": {
   "display_name": "Python 3.8.10 64-bit",
   "language": "python",
   "name": "python3"
  },
  "language_info": {
   "codemirror_mode": {
    "name": "ipython",
    "version": 3
   },
   "file_extension": ".py",
   "mimetype": "text/x-python",
   "name": "python",
   "nbconvert_exporter": "python",
   "pygments_lexer": "ipython3",
   "version": "3.8.10"
  },
  "orig_nbformat": 4,
  "vscode": {
   "interpreter": {
    "hash": "31f2aee4e71d21fbe5cf8b01ff0e069b9275f58929596ceb00d14d90e3e16cd6"
   }
  }
 },
 "nbformat": 4,
 "nbformat_minor": 2
}
