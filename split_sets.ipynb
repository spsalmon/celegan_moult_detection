{
 "cells": [
  {
   "cell_type": "code",
   "execution_count": 1,
   "metadata": {},
   "outputs": [],
   "source": [
    "import pandas as pd\n",
    "import os\n",
    "import numpy as np\n",
    "from sklearn.model_selection import train_test_split\n",
    "import shutil\n",
    "import csv\n",
    "\n",
    "def append_list_as_row(file_name, list_of_elem):\n",
    "    # Open file in append mode\n",
    "    with open(file_name, 'a+', newline='') as write_obj:\n",
    "        # Create a writer object from csv module\n",
    "        csv_writer = csv.writer(write_obj)\n",
    "        # Add contents of list as last row in the csv file\n",
    "        csv_writer.writerow(list_of_elem)"
   ]
  },
  {
   "cell_type": "code",
   "execution_count": 2,
   "metadata": {},
   "outputs": [
    {
     "name": "stdout",
     "output_type": "stream",
     "text": [
      "44925\n",
      "11232\n"
     ]
    },
    {
     "ename": "KeyboardInterrupt",
     "evalue": "",
     "output_type": "error",
     "traceback": [
      "\u001b[0;31m---------------------------------------------------------------------------\u001b[0m",
      "\u001b[0;31mKeyboardInterrupt\u001b[0m                         Traceback (most recent call last)",
      "\u001b[1;32m/home/spsalmon/detect_moults/classify_moults/split_sets.ipynb Cellule 2\u001b[0m in \u001b[0;36m<cell line: 33>\u001b[0;34m()\u001b[0m\n\u001b[1;32m     <a href='vscode-notebook-cell://ssh-remote%2Bizbcotonou.unibe.ch/home/spsalmon/detect_moults/classify_moults/split_sets.ipynb#W1sdnNjb2RlLXJlbW90ZQ%3D%3D?line=30'>31</a>\u001b[0m \u001b[39mprint\u001b[39m(\u001b[39mlen\u001b[39m(validation_indexes))\n\u001b[1;32m     <a href='vscode-notebook-cell://ssh-remote%2Bizbcotonou.unibe.ch/home/spsalmon/detect_moults/classify_moults/split_sets.ipynb#W1sdnNjb2RlLXJlbW90ZQ%3D%3D?line=32'>33</a>\u001b[0m \u001b[39mfor\u001b[39;00m index \u001b[39min\u001b[39;00m train_indexes:\n\u001b[0;32m---> <a href='vscode-notebook-cell://ssh-remote%2Bizbcotonou.unibe.ch/home/spsalmon/detect_moults/classify_moults/split_sets.ipynb#W1sdnNjb2RlLXJlbW90ZQ%3D%3D?line=33'>34</a>\u001b[0m     shutil\u001b[39m.\u001b[39;49mcopy(whole_database_folder\u001b[39m+\u001b[39;49mlabels[\u001b[39m'\u001b[39;49m\u001b[39mimg_id\u001b[39;49m\u001b[39m'\u001b[39;49m]\u001b[39m.\u001b[39;49miloc[index], training_database_folder\u001b[39m+\u001b[39;49mlabels[\u001b[39m'\u001b[39;49m\u001b[39mimg_id\u001b[39;49m\u001b[39m'\u001b[39;49m]\u001b[39m.\u001b[39;49miloc[index])\n\u001b[1;32m     <a href='vscode-notebook-cell://ssh-remote%2Bizbcotonou.unibe.ch/home/spsalmon/detect_moults/classify_moults/split_sets.ipynb#W1sdnNjb2RlLXJlbW90ZQ%3D%3D?line=34'>35</a>\u001b[0m     append_list_as_row(training_labels_csv, labels\u001b[39m.\u001b[39miloc[index]\u001b[39m.\u001b[39mto_list())\n\u001b[1;32m     <a href='vscode-notebook-cell://ssh-remote%2Bizbcotonou.unibe.ch/home/spsalmon/detect_moults/classify_moults/split_sets.ipynb#W1sdnNjb2RlLXJlbW90ZQ%3D%3D?line=36'>37</a>\u001b[0m \u001b[39mfor\u001b[39;00m index \u001b[39min\u001b[39;00m validation_indexes:\n",
      "File \u001b[0;32m/usr/lib/python3.8/shutil.py:418\u001b[0m, in \u001b[0;36mcopy\u001b[0;34m(src, dst, follow_symlinks)\u001b[0m\n\u001b[1;32m    416\u001b[0m \u001b[39mif\u001b[39;00m os\u001b[39m.\u001b[39mpath\u001b[39m.\u001b[39misdir(dst):\n\u001b[1;32m    417\u001b[0m     dst \u001b[39m=\u001b[39m os\u001b[39m.\u001b[39mpath\u001b[39m.\u001b[39mjoin(dst, os\u001b[39m.\u001b[39mpath\u001b[39m.\u001b[39mbasename(src))\n\u001b[0;32m--> 418\u001b[0m copyfile(src, dst, follow_symlinks\u001b[39m=\u001b[39;49mfollow_symlinks)\n\u001b[1;32m    419\u001b[0m copymode(src, dst, follow_symlinks\u001b[39m=\u001b[39mfollow_symlinks)\n\u001b[1;32m    420\u001b[0m \u001b[39mreturn\u001b[39;00m dst\n",
      "File \u001b[0;32m/usr/lib/python3.8/shutil.py:275\u001b[0m, in \u001b[0;36mcopyfile\u001b[0;34m(src, dst, follow_symlinks)\u001b[0m\n\u001b[1;32m    273\u001b[0m \u001b[39melif\u001b[39;00m _USE_CP_SENDFILE:\n\u001b[1;32m    274\u001b[0m     \u001b[39mtry\u001b[39;00m:\n\u001b[0;32m--> 275\u001b[0m         _fastcopy_sendfile(fsrc, fdst)\n\u001b[1;32m    276\u001b[0m         \u001b[39mreturn\u001b[39;00m dst\n\u001b[1;32m    277\u001b[0m     \u001b[39mexcept\u001b[39;00m _GiveupOnFastCopy:\n",
      "File \u001b[0;32m/usr/lib/python3.8/shutil.py:152\u001b[0m, in \u001b[0;36m_fastcopy_sendfile\u001b[0;34m(fsrc, fdst)\u001b[0m\n\u001b[1;32m    150\u001b[0m \u001b[39mwhile\u001b[39;00m \u001b[39mTrue\u001b[39;00m:\n\u001b[1;32m    151\u001b[0m     \u001b[39mtry\u001b[39;00m:\n\u001b[0;32m--> 152\u001b[0m         sent \u001b[39m=\u001b[39m os\u001b[39m.\u001b[39;49msendfile(outfd, infd, offset, blocksize)\n\u001b[1;32m    153\u001b[0m     \u001b[39mexcept\u001b[39;00m \u001b[39mOSError\u001b[39;00m \u001b[39mas\u001b[39;00m err:\n\u001b[1;32m    154\u001b[0m         \u001b[39m# ...in oder to have a more informative exception.\u001b[39;00m\n\u001b[1;32m    155\u001b[0m         err\u001b[39m.\u001b[39mfilename \u001b[39m=\u001b[39m fsrc\u001b[39m.\u001b[39mname\n",
      "\u001b[0;31mKeyboardInterrupt\u001b[0m: "
     ]
    }
   ],
   "source": [
    "whole_database_folder = \"/mnt/external.data/TowbinLab/spsalmon/moult_database/whole_database/fluo/\"\n",
    "\n",
    "training_database_folder = \"/mnt/external.data/TowbinLab/spsalmon/moult_database/fluo/training/\"\n",
    "validation_database_folder = \"/mnt/external.data/TowbinLab/spsalmon/moult_database/fluo/validation/\"\n",
    "\n",
    "\n",
    "if not os.path.exists(training_database_folder):\n",
    "    os.makedirs(training_database_folder)\n",
    "if not os.path.exists(validation_database_folder):\n",
    "    os.makedirs(validation_database_folder)\n",
    "\n",
    "training_labels_csv = training_database_folder+\"labels.csv\"\n",
    "validation_labels_csv = validation_database_folder+\"labels.csv\"\n",
    "\n",
    "with open(training_labels_csv, 'a+', newline='') as csvfile:\n",
    "    if os.stat(training_labels_csv).st_size == 0:\n",
    "        writer = csv.writer(csvfile)\n",
    "        writer.writerow(['img_id', 'label'])\n",
    "\n",
    "with open(validation_labels_csv, 'a+', newline='') as csvfile:\n",
    "    if os.stat(validation_labels_csv).st_size == 0:\n",
    "        writer = csv.writer(csvfile)\n",
    "        writer.writerow(['img_id', 'label'])\n",
    "\n",
    "labels = pd.read_csv(whole_database_folder+\"labels.csv\")\n",
    "indexes = np.arange(labels.shape[0])\n",
    "# print(indexes)\n",
    "\n",
    "train_indexes, validation_indexes = train_test_split(indexes, test_size=0.2)\n",
    "print(len(train_indexes))\n",
    "print(len(validation_indexes))\n",
    "\n",
    "for index in train_indexes:\n",
    "    shutil.copy(whole_database_folder+labels['img_id'].iloc[index], training_database_folder+labels['img_id'].iloc[index])\n",
    "    append_list_as_row(training_labels_csv, labels.iloc[index].to_list())\n",
    "\n",
    "for index in validation_indexes:\n",
    "    shutil.copy(whole_database_folder+labels['img_id'].iloc[index], validation_database_folder+labels['img_id'].iloc[index])\n",
    "    append_list_as_row(validation_labels_csv, labels.iloc[index].to_list())\n",
    "\n",
    "# print(labels.iloc[100].to_list())"
   ]
  }
 ],
 "metadata": {
  "kernelspec": {
   "display_name": "Python 3.8.10 64-bit",
   "language": "python",
   "name": "python3"
  },
  "language_info": {
   "codemirror_mode": {
    "name": "ipython",
    "version": 3
   },
   "file_extension": ".py",
   "mimetype": "text/x-python",
   "name": "python",
   "nbconvert_exporter": "python",
   "pygments_lexer": "ipython3",
   "version": "3.8.10"
  },
  "orig_nbformat": 4,
  "vscode": {
   "interpreter": {
    "hash": "31f2aee4e71d21fbe5cf8b01ff0e069b9275f58929596ceb00d14d90e3e16cd6"
   }
  }
 },
 "nbformat": 4,
 "nbformat_minor": 2
}
